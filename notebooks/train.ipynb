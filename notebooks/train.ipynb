{
 "cells": [
  {
   "cell_type": "markdown",
   "id": "6e4b5726",
   "metadata": {},
   "source": [
    "# Insect Object Detection"
   ]
  },
  {
   "cell_type": "markdown",
   "id": "6f96c0ef",
   "metadata": {},
   "source": [
    "This is an example file of a notebook to train an object detection model. It is based off of Edward Amoah's original assignment 4b code, and modified by Sabrina Adler on 9/15/2025. "
   ]
  },
  {
   "cell_type": "markdown",
   "id": "750f18df",
   "metadata": {},
   "source": [
    "This section is worth **20% of the project**. Please complete all 3 questions to receive full credit"
   ]
  },
  {
   "cell_type": "markdown",
   "id": "a406d52f",
   "metadata": {},
   "source": [
    "## Setup"
   ]
  },
  {
   "cell_type": "markdown",
   "id": "bdd879c7",
   "metadata": {},
   "source": [
    "### Imports and Installs"
   ]
  },
  {
   "cell_type": "markdown",
   "id": "26424633",
   "metadata": {},
   "source": [
    "You may need to install some VS-Code extensions to use Jupyter Notebook. I recommend installing the Jupyter extension. \n",
    "\n",
    "*Note: before you run this notebook, you **MUST** read the PDF explaining how to set up your virtual environment (venv) and install all requirements*\n",
    "\n",
    "**When running the code cells, go to the left corner of the cell, click run, and select your virtual environment (venv)**"
   ]
  },
  {
   "cell_type": "code",
   "execution_count": 14,
   "id": "e44f07ba",
   "metadata": {},
   "outputs": [],
   "source": [
    "from ultralytics import YOLO\n",
    "from PIL import Image\n",
    "import torch\n",
    "import numpy as np\n",
    "import os"
   ]
  },
  {
   "cell_type": "markdown",
   "id": "61c89918",
   "metadata": {},
   "source": [
    "### Add Your Data Folder"
   ]
  },
  {
   "cell_type": "code",
   "execution_count": 5,
   "id": "760cafbd",
   "metadata": {},
   "outputs": [],
   "source": [
    "DATA_FOLDER = \"/Users/sabrinaadler/code/cse597-project/data\" # change with the path to your data folder"
   ]
  },
  {
   "cell_type": "code",
   "execution_count": null,
   "id": "9685ea3b",
   "metadata": {},
   "outputs": [],
   "source": [
    "image_folder = os.path.join(DATA_FOLDER, \"train/images\")\n",
    "image_files = os.listdir(image_folder)\n",
    "yaml_path = os.path.join(DATA_FOLDER, \"data.yaml\")  "
   ]
  },
  {
   "cell_type": "code",
   "execution_count": null,
   "id": "d285df4e",
   "metadata": {},
   "outputs": [],
   "source": [
    "# Example: Load an image from the folder and display it ; Useful check for debugging \n",
    "sample_image_path = os.path.join(image_folder, image_files[0])\n",
    "image = Image.open(sample_image_path)\n",
    "image.show()"
   ]
  },
  {
   "cell_type": "markdown",
   "id": "ab7de71f",
   "metadata": {},
   "source": [
    "## Assignment "
   ]
  },
  {
   "cell_type": "markdown",
   "id": "b815e541",
   "metadata": {},
   "source": [
    "### Describe the Dataset *(10 pt | 2 Questions)*"
   ]
  },
  {
   "cell_type": "code",
   "execution_count": null,
   "id": "47af651b",
   "metadata": {},
   "outputs": [],
   "source": [
    "## this code is GIVEN, please do not change it ; only alter the parts marked with --student code here -- and -- end student code --\n",
    "\n",
    "# Function to calculate the percentage of green pixels in an image\n",
    "def percent_green_pixels(image_path):\n",
    "    img = Image.open(image_path).convert('RGB')\n",
    "    img_np = np.array(img)\n",
    "    # Define green as pixels where G > R and G > B by a margin\n",
    "    green_mask = (img_np[:,:,1] > img_np[:,:,0] + 30) & (img_np[:,:,1] > img_np[:,:,2] + 30)\n",
    "    percent_green = 100 * np.sum(green_mask) / green_mask.size\n",
    "    return percent_green\n",
    "\n",
    "# Calculate green pixel percentages for all images\n",
    "green_percents = []\n",
    "for fname in image_files:\n",
    "    path = os.path.join(image_folder, fname)\n",
    "    percent = percent_green_pixels(path)\n",
    "    green_percents.append(percent)\n",
    "\n",
    "num_results = 10 # Change this to see more or fewer results\n",
    "for fname, percent in zip(image_files[:num_results], green_percents[:num_results]):\n",
    "    print(f\"{fname}: {percent:.2f}% green pixels\")"
   ]
  },
  {
   "cell_type": "markdown",
   "id": "28e01193",
   "metadata": {},
   "source": [
    "**QUESTION 1 (5 pt):**\n",
    "\n",
    "1. Find the average percentage of green pixels across all images in the dataset and print it out\n",
    "2. Create a histogram of the distribution of green pixel percentages across all images (if you are unsure how to do this look into pandas and matplotlib)"
   ]
  },
  {
   "cell_type": "code",
   "execution_count": null,
   "id": "cd965338",
   "metadata": {},
   "outputs": [],
   "source": [
    "# --student code here --\n",
    "\n",
    "# -- end student code --"
   ]
  },
  {
   "cell_type": "markdown",
   "id": "3f0783c6",
   "metadata": {},
   "source": [
    "**QUESTION 2 (5 pt):** \n",
    "\n",
    "Can you describe what this may indicate about the dataset? Do you think it will be hard to identify the greenish cornear worm?"
   ]
  },
  {
   "cell_type": "markdown",
   "id": "6175deea",
   "metadata": {},
   "source": [
    "-- double click to add student explanation here -- "
   ]
  },
  {
   "cell_type": "markdown",
   "id": "a5b46d64",
   "metadata": {},
   "source": [
    "### Train the Model *(10 pt | 1 Question)*"
   ]
  },
  {
   "cell_type": "code",
   "execution_count": 8,
   "id": "5c445e0e",
   "metadata": {},
   "outputs": [],
   "source": [
    "model = YOLO(\"yolov8n.pt\")  # Load a pre-trained YOLOv8 model"
   ]
  },
  {
   "cell_type": "code",
   "execution_count": null,
   "id": "38786608",
   "metadata": {},
   "outputs": [],
   "source": [
    "device  = torch.device(\"cuda\" if torch.cuda.is_available() else \"cpu\")\n",
    "model = model.to(device)\n",
    "\n",
    "# Fine-Tune the model\n",
    "epochs = 5 # change epeochs to 10 or more\n",
    "model.train(data=yaml_path, epochs=epochs)"
   ]
  },
  {
   "cell_type": "markdown",
   "id": "11d4020f",
   "metadata": {},
   "source": [
    "**QUESTION 3 (10 pt)** \\\n",
    "*Note: maximum 500 words* \n",
    "\n",
    "Once this is done training, go to runs/detect and view the confusion matrix as well as some of the other graphs. \n",
    "1. How can you interpret this? Would you consider this model successful, yes or no? Explain your reasoning. \n",
    "2. Please list your suggestions that you have on how to improve these metrics. \n",
    "3. The next part of this project involves incorporating this model into the robot. Do you have any ideas on how to do this successfully? "
   ]
  },
  {
   "cell_type": "markdown",
   "id": "470d03eb",
   "metadata": {},
   "source": [
    "-- double click to add student explanation here -- "
   ]
  }
 ],
 "metadata": {
  "kernelspec": {
   "display_name": "venv (3.13.5)",
   "language": "python",
   "name": "python3"
  },
  "language_info": {
   "codemirror_mode": {
    "name": "ipython",
    "version": 3
   },
   "file_extension": ".py",
   "mimetype": "text/x-python",
   "name": "python",
   "nbconvert_exporter": "python",
   "pygments_lexer": "ipython3",
   "version": "3.13.5"
  }
 },
 "nbformat": 4,
 "nbformat_minor": 5
}
